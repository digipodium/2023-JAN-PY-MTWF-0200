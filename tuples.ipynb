{
 "cells": [
  {
   "attachments": {},
   "cell_type": "markdown",
   "metadata": {},
   "source": [
    "basic data structure\n",
    "1. list 👑\n",
    "2. tuple\n",
    "3. set\n",
    "4. dictionary 👑\n",
    "\n",
    "tuple properties\n",
    "- ordered (sequence)\n",
    "- indexed \n",
    "- *immutable* (unchangeable)\n",
    "- allow duplicate values\n",
    "- heterogeneous (different types of data)\n",
    "- tuple is denoted by round brackets `( )`\n",
    "- an iterable can be converted to tuple using `tuple()` function"
   ]
  },
  {
   "cell_type": "code",
   "execution_count": 1,
   "metadata": {},
   "outputs": [
    {
     "name": "stdout",
     "output_type": "stream",
     "text": [
      "(1, 2, 3, 4)\n"
     ]
    }
   ],
   "source": [
    "x = (1, 2, 3, 4)  # a simple tuple\n",
    "print(x)"
   ]
  },
  {
   "cell_type": "code",
   "execution_count": 2,
   "metadata": {},
   "outputs": [],
   "source": [
    "y = 12, 56, 23, 45  # tuple packing"
   ]
  },
  {
   "cell_type": "code",
   "execution_count": 7,
   "metadata": {},
   "outputs": [
    {
     "name": "stdout",
     "output_type": "stream",
     "text": [
      "12 45 125\n",
      "12 [45, 125]\n"
     ]
    },
    {
     "ename": "ValueError",
     "evalue": "too many values to unpack (expected 2)",
     "output_type": "error",
     "traceback": [
      "\u001b[1;31m---------------------------------------------------------------------------\u001b[0m",
      "\u001b[1;31mValueError\u001b[0m                                Traceback (most recent call last)",
      "Cell \u001b[1;32mIn[7], line 5\u001b[0m\n\u001b[0;32m      3\u001b[0m a, \u001b[39m*\u001b[39mb \u001b[39m=\u001b[39m (\u001b[39m12\u001b[39m,\u001b[39m45\u001b[39m,\u001b[39m125\u001b[39m) \u001b[39m# tuple unpacking\u001b[39;00m\n\u001b[0;32m      4\u001b[0m \u001b[39mprint\u001b[39m(a, b)\n\u001b[1;32m----> 5\u001b[0m a, b \u001b[39m=\u001b[39m (\u001b[39m1\u001b[39m,\u001b[39m2\u001b[39m,\u001b[39m3\u001b[39m)\n",
      "\u001b[1;31mValueError\u001b[0m: too many values to unpack (expected 2)"
     ]
    }
   ],
   "source": [
    "a, b, c = (12,45,125) # tuple unpacking\n",
    "print(a, b, c)\n",
    "a, *b = (12,45,125) # tuple unpacking\n",
    "print(a, b)\n",
    "a, b = (1,2,3)  # too many values to unpack error"
   ]
  },
  {
   "cell_type": "code",
   "execution_count": 8,
   "metadata": {},
   "outputs": [
    {
     "name": "stdout",
     "output_type": "stream",
     "text": [
      "(1, 2, 3, 4)\n",
      "('A', 'l', 'u', 'm', 'i', 'n', 'i', 'u', 'm')\n"
     ]
    }
   ],
   "source": [
    "x = [1, 2, 3, 4]  # a simple list\n",
    "xt = tuple(x)  # convert list to tuple\n",
    "z = 'Aluminium'\n",
    "zt = tuple(z)  # convert string to tuple\n",
    "print(xt, zt, sep='\\n')"
   ]
  },
  {
   "cell_type": "code",
   "execution_count": 10,
   "metadata": {},
   "outputs": [
    {
     "name": "stdout",
     "output_type": "stream",
     "text": [
      "4\n"
     ]
    }
   ],
   "source": [
    "y = (1,2,3,4,5,1,12,3,12,3,12,31,23,1,2,45,3,213,21,31,2,31)\n",
    "print(y.count(3))  # count the number of times 3 appears in the tuple"
   ]
  },
  {
   "cell_type": "code",
   "execution_count": 12,
   "metadata": {},
   "outputs": [
    {
     "name": "stdout",
     "output_type": "stream",
     "text": [
      "12\n"
     ]
    }
   ],
   "source": [
    "print(y.index(23))"
   ]
  },
  {
   "cell_type": "code",
   "execution_count": null,
   "metadata": {},
   "outputs": [],
   "source": []
  }
 ],
 "metadata": {
  "kernelspec": {
   "display_name": "base",
   "language": "python",
   "name": "python3"
  },
  "language_info": {
   "codemirror_mode": {
    "name": "ipython",
    "version": 3
   },
   "file_extension": ".py",
   "mimetype": "text/x-python",
   "name": "python",
   "nbconvert_exporter": "python",
   "pygments_lexer": "ipython3",
   "version": "3.10.9"
  },
  "orig_nbformat": 4,
  "vscode": {
   "interpreter": {
    "hash": "8befaed7f752a58a740e5f08c55a1efd8fcda412d7a2f1c4d828330769dea609"
   }
  }
 },
 "nbformat": 4,
 "nbformat_minor": 2
}
