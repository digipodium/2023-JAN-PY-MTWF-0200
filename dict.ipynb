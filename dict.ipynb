{
 "cells": [
  {
   "attachments": {},
   "cell_type": "markdown",
   "metadata": {},
   "source": [
    "basic data structure\n",
    "1. list 👑\n",
    "2. tuple\n",
    "3. set\n",
    "4. dictionary 👑\n",
    "\n",
    "dict properties\n",
    "- ordered (sequence)\n",
    "- unindexed \n",
    "- mutable (changeable)\n",
    "- allows duplicate values, but keys are unique\n",
    "- key: value pairs\n",
    "- keys are immutable (cannot be changed)\n",
    "- values can be heterogeneous (different types of data)\n",
    "- denoted by `{ }`\n",
    "- an `list of paired values` can be converted to dict using `dict()` function\n",
    "\n",
    "# what u need to learn\n",
    "- create dictionaries\n",
    "- methods"
   ]
  },
  {
   "cell_type": "code",
   "execution_count": 6,
   "metadata": {},
   "outputs": [],
   "source": [
    "series1 = {\n",
    "    'title':'Person of Interest',\n",
    "    'total seasons':5,\n",
    "    'genre':'Action/Thriller',\n",
    "    'available on':'Amazon Prime',\n",
    "    'summary':'A billionaire software genius hires a team of ex-military operatives to prevent crimes before they happen.'\n",
    "}"
   ]
  },
  {
   "cell_type": "code",
   "execution_count": 10,
   "metadata": {},
   "outputs": [
    {
     "data": {
      "text/plain": [
       "'Person of Interest'"
      ]
     },
     "execution_count": 10,
     "metadata": {},
     "output_type": "execute_result"
    }
   ],
   "source": [
    "series1['title']"
   ]
  },
  {
   "cell_type": "code",
   "execution_count": 11,
   "metadata": {},
   "outputs": [],
   "source": [
    "series2 = {} # empty dictionary"
   ]
  },
  {
   "cell_type": "code",
   "execution_count": 14,
   "metadata": {},
   "outputs": [],
   "source": [
    "series2['Title'] = 'Arrow'"
   ]
  },
  {
   "cell_type": "code",
   "execution_count": 16,
   "metadata": {},
   "outputs": [
    {
     "data": {
      "text/plain": [
       "'Arrow'"
      ]
     },
     "execution_count": 16,
     "metadata": {},
     "output_type": "execute_result"
    }
   ],
   "source": [
    "series2['Title']"
   ]
  },
  {
   "cell_type": "code",
   "execution_count": 17,
   "metadata": {},
   "outputs": [],
   "source": [
    "series2['seasons'] = 8\n",
    "series2['genre'] = 'Action/Adventure'\n",
    "series2['studio'] = 'DC Comics'"
   ]
  },
  {
   "cell_type": "code",
   "execution_count": 18,
   "metadata": {},
   "outputs": [
    {
     "data": {
      "text/plain": [
       "{'Title': 'Arrow',\n",
       " 'seasons': 8,\n",
       " 'genre': 'Action/Adventure',\n",
       " 'studio': 'DC Comics'}"
      ]
     },
     "execution_count": 18,
     "metadata": {},
     "output_type": "execute_result"
    }
   ],
   "source": [
    "series2"
   ]
  },
  {
   "attachments": {},
   "cell_type": "markdown",
   "metadata": {},
   "source": [
    "nested dictionary"
   ]
  },
  {
   "cell_type": "code",
   "execution_count": 19,
   "metadata": {},
   "outputs": [],
   "source": [
    "books = {\n",
    "    'book 1' : {\n",
    "        'title': 'The Alloy of Law',\n",
    "        'author': 'Brandon Sanderson',\n",
    "        'summary': 'Western meets steampunk in this new Mistborn series'\n",
    "    },\n",
    "    'book 2': {\n",
    "        'title': 'The Bands of Mourning',\n",
    "        'author': 'Brandon Sanderson',\n",
    "        'summary': 'The third book in the Mistborn series era 2'\n",
    "    },\n",
    "    'book 3':{\n",
    "        'title':'The Lost Metal',\n",
    "        'author':'Brandon Sanderson',\n",
    "        'summary':'The fourth book in the Mistborn series era 2'\n",
    "    }\n",
    "}"
   ]
  },
  {
   "cell_type": "code",
   "execution_count": 20,
   "metadata": {},
   "outputs": [
    {
     "data": {
      "text/plain": [
       "{'title': 'The Alloy of Law',\n",
       " 'author': 'Brandon Sanderson',\n",
       " 'summary': 'Western meets steampunk in this new Mistborn series'}"
      ]
     },
     "execution_count": 20,
     "metadata": {},
     "output_type": "execute_result"
    }
   ],
   "source": [
    "books['book 1']"
   ]
  },
  {
   "cell_type": "code",
   "execution_count": 24,
   "metadata": {},
   "outputs": [
    {
     "data": {
      "text/plain": [
       "'The Lost Metal'"
      ]
     },
     "execution_count": 24,
     "metadata": {},
     "output_type": "execute_result"
    }
   ],
   "source": [
    "books['book 3']['title']"
   ]
  },
  {
   "cell_type": "code",
   "execution_count": 26,
   "metadata": {},
   "outputs": [
    {
     "name": "stdout",
     "output_type": "stream",
     "text": [
      "title Person of Interest\n",
      "total seasons 5\n",
      "genre Action/Thriller\n",
      "available on Amazon Prime\n",
      "summary A billionaire software genius hires a team of ex-military operatives to prevent crimes before they happen.\n"
     ]
    }
   ],
   "source": [
    "for i in series1:\n",
    "    print(i, series1[i])"
   ]
  },
  {
   "cell_type": "code",
   "execution_count": 27,
   "metadata": {},
   "outputs": [
    {
     "name": "stdout",
     "output_type": "stream",
     "text": [
      "title Person of Interest\n",
      "total seasons 5\n",
      "genre Action/Thriller\n",
      "available on Amazon Prime\n",
      "summary A billionaire software genius hires a team of ex-military operatives to prevent crimes before they happen.\n"
     ]
    }
   ],
   "source": [
    "for k, v in series1.items():\n",
    "    print(k, v)"
   ]
  },
  {
   "cell_type": "code",
   "execution_count": 28,
   "metadata": {},
   "outputs": [
    {
     "name": "stdout",
     "output_type": "stream",
     "text": [
      "book 1 title The Alloy of Law\n",
      "book 1 author Brandon Sanderson\n",
      "book 1 summary Western meets steampunk in this new Mistborn series\n",
      "book 2 title The Bands of Mourning\n",
      "book 2 author Brandon Sanderson\n",
      "book 2 summary The third book in the Mistborn series era 2\n",
      "book 3 title The Lost Metal\n",
      "book 3 author Brandon Sanderson\n",
      "book 3 summary The fourth book in the Mistborn series era 2\n"
     ]
    }
   ],
   "source": [
    "for k,v in books.items():\n",
    "    for k1, v1 in v.items():\n",
    "        print(k, k1, v1)"
   ]
  },
  {
   "cell_type": "code",
   "execution_count": 30,
   "metadata": {},
   "outputs": [
    {
     "data": {
      "text/plain": [
       "['title', 'total seasons', 'genre', 'available on', 'summary']"
      ]
     },
     "execution_count": 30,
     "metadata": {},
     "output_type": "execute_result"
    }
   ],
   "source": [
    "list(series1.keys())"
   ]
  },
  {
   "cell_type": "code",
   "execution_count": 31,
   "metadata": {},
   "outputs": [
    {
     "data": {
      "text/plain": [
       "['Person of Interest',\n",
       " 5,\n",
       " 'Action/Thriller',\n",
       " 'Amazon Prime',\n",
       " 'A billionaire software genius hires a team of ex-military operatives to prevent crimes before they happen.']"
      ]
     },
     "execution_count": 31,
     "metadata": {},
     "output_type": "execute_result"
    }
   ],
   "source": [
    "list(series1.values())"
   ]
  },
  {
   "cell_type": "code",
   "execution_count": 32,
   "metadata": {},
   "outputs": [
    {
     "data": {
      "text/plain": [
       "dict_items([('Title', 'Arrow'), ('seasons', 8), ('genre', 'Action/Adventure'), ('studio', 'DC Comics')])"
      ]
     },
     "execution_count": 32,
     "metadata": {},
     "output_type": "execute_result"
    }
   ],
   "source": [
    "series2.items()"
   ]
  },
  {
   "cell_type": "code",
   "execution_count": 34,
   "metadata": {},
   "outputs": [
    {
     "data": {
      "text/plain": [
       "{'title': 'The Alloy of Law',\n",
       " 'author': 'Brandon Sanderson',\n",
       " 'summary': 'Western meets steampunk in this new Mistborn series'}"
      ]
     },
     "execution_count": 34,
     "metadata": {},
     "output_type": "execute_result"
    }
   ],
   "source": [
    "books.pop('book 1')"
   ]
  },
  {
   "cell_type": "code",
   "execution_count": 37,
   "metadata": {},
   "outputs": [
    {
     "data": {
      "text/plain": [
       "{'book 2': {'title': 'The Bands of Mourning',\n",
       "  'author': 'Brandon Sanderson',\n",
       "  'summary': 'The third book in the Mistborn series era 2'},\n",
       " 'book 3': {'title': 'The Lost Metal',\n",
       "  'author': 'Brandon Sanderson',\n",
       "  'summary': 'The fourth book in the Mistborn series era 2'},\n",
       " 'series 1': {'title': 'Person of Interest',\n",
       "  'total seasons': 5,\n",
       "  'genre': 'Action/Thriller',\n",
       "  'available on': 'Amazon Prime',\n",
       "  'summary': 'A billionaire software genius hires a team of ex-military operatives to prevent crimes before they happen.'},\n",
       " 'series 2': {'Title': 'Arrow',\n",
       "  'seasons': 8,\n",
       "  'genre': 'Action/Adventure',\n",
       "  'studio': 'DC Comics'}}"
      ]
     },
     "execution_count": 37,
     "metadata": {},
     "output_type": "execute_result"
    }
   ],
   "source": [
    "books.update({'series 1': series1, 'series 2': series2})\n",
    "\n",
    "books"
   ]
  },
  {
   "cell_type": "code",
   "execution_count": 38,
   "metadata": {},
   "outputs": [
    {
     "name": "stdout",
     "output_type": "stream",
     "text": [
      "{'name': 'Alexis', 'phone': '39021039202'}\n"
     ]
    }
   ],
   "source": [
    "contacts = {}\n",
    "nm = input('Enter name: ')\n",
    "ph = input('Enter phone number: ')\n",
    "contacts['name'] = nm\n",
    "contacts['phone'] = ph\n",
    "print(contacts)"
   ]
  },
  {
   "cell_type": "code",
   "execution_count": null,
   "metadata": {},
   "outputs": [],
   "source": []
  }
 ],
 "metadata": {
  "kernelspec": {
   "display_name": "base",
   "language": "python",
   "name": "python3"
  },
  "language_info": {
   "codemirror_mode": {
    "name": "ipython",
    "version": 3
   },
   "file_extension": ".py",
   "mimetype": "text/x-python",
   "name": "python",
   "nbconvert_exporter": "python",
   "pygments_lexer": "ipython3",
   "version": "3.10.9"
  },
  "orig_nbformat": 4,
  "vscode": {
   "interpreter": {
    "hash": "8befaed7f752a58a740e5f08c55a1efd8fcda412d7a2f1c4d828330769dea609"
   }
  }
 },
 "nbformat": 4,
 "nbformat_minor": 2
}
