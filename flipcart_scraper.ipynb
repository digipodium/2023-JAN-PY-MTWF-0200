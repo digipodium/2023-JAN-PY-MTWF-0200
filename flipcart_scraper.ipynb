{
 "cells": [
  {
   "cell_type": "code",
   "execution_count": 1,
   "metadata": {},
   "outputs": [],
   "source": [
    "from dputils.scrape import Scraper, Tag"
   ]
  },
  {
   "cell_type": "code",
   "execution_count": 21,
   "metadata": {},
   "outputs": [
    {
     "data": {
      "text/plain": [
       "<title>Phones- Buy Products Online at Best Price in India - All Categories | Flipkart.com</title>"
      ]
     },
     "execution_count": 21,
     "metadata": {},
     "output_type": "execute_result"
    }
   ],
   "source": [
    "query = 'phones'\n",
    "page = 1\n",
    "url = f'https://www.flipkart.com/search?q={query}&page={page}'\n",
    "scraper = Scraper(url)\n",
    "scraper.soup.title"
   ]
  },
  {
   "cell_type": "code",
   "execution_count": 22,
   "metadata": {},
   "outputs": [
    {
     "name": "stdout",
     "output_type": "stream",
     "text": [
      "26\n"
     ]
    }
   ],
   "source": [
    "# page items\n",
    "target = Tag(cls='_1YokD2 _3Mn1Gg')\n",
    "items = Tag(cls='_1AtVbE col-12-12')\n",
    "# product items\n",
    "title = Tag(cls='_4rR01T')\n",
    "price = Tag(cls='_30jeq3 _1_WHN1')\n",
    "rating = Tag('span', cls='_2_R_DZ')\n",
    "out = scraper.get_all(target, items, name=title, price=price, rr=rating)\n",
    "print(len(out))"
   ]
  },
  {
   "cell_type": "code",
   "execution_count": 23,
   "metadata": {},
   "outputs": [
    {
     "data": {
      "text/plain": [
       "[{'name': 'SAMSUNG Galaxy F13 (Nightsky Green, 64 GB)',\n",
       "  'price': '₹10,999',\n",
       "  'rr': '1,32,390 Ratings\\xa0&\\xa07,608 Reviews'},\n",
       " {'name': 'realme C30 (Denim Black, 32 GB)',\n",
       "  'price': '₹5,749',\n",
       "  'rr': '93,574 Ratings\\xa0&\\xa04,998 Reviews'},\n",
       " {'name': 'realme C30 (Denim Black, 32 GB)',\n",
       "  'price': '₹6,749',\n",
       "  'rr': '43,450 Ratings\\xa0&\\xa02,771 Reviews'},\n",
       " {'name': 'realme C30 (Lake Blue, 32 GB)',\n",
       "  'price': '₹5,749',\n",
       "  'rr': '93,574 Ratings\\xa0&\\xa04,998 Reviews'},\n",
       " {'name': 'realme C30 (Bamboo Green, 32 GB)',\n",
       "  'price': '₹6,749',\n",
       "  'rr': '43,450 Ratings\\xa0&\\xa02,771 Reviews'},\n",
       " {'name': 'realme C30 (Lake Blue, 32 GB)',\n",
       "  'price': '₹6,749',\n",
       "  'rr': '43,450 Ratings\\xa0&\\xa02,771 Reviews'},\n",
       " {'name': 'SAMSUNG Galaxy F13 (Waterfall Blue, 64 GB)',\n",
       "  'price': '₹10,999',\n",
       "  'rr': '1,32,390 Ratings\\xa0&\\xa07,608 Reviews'},\n",
       " {'name': 'POCO M4 5G (Cool Blue, 64 GB)',\n",
       "  'price': '₹10,999',\n",
       "  'rr': '60,872 Ratings\\xa0&\\xa04,527 Reviews'},\n",
       " {'name': 'POCO C50 (Royal Blue, 32 GB)',\n",
       "  'price': '₹6,499',\n",
       "  'rr': '10,601 Ratings\\xa0&\\xa0441 Reviews'},\n",
       " {'name': 'realme C30 (Bamboo Green, 32 GB)',\n",
       "  'price': '₹5,749',\n",
       "  'rr': '93,574 Ratings\\xa0&\\xa04,998 Reviews'},\n",
       " {'name': 'POCO C50 (Country Green, 32 GB)',\n",
       "  'price': '₹6,499',\n",
       "  'rr': '10,601 Ratings\\xa0&\\xa0441 Reviews'},\n",
       " {'name': 'vivo T1 44W (Starry Sky, 128 GB)',\n",
       "  'price': '₹15,999',\n",
       "  'rr': '55,267 Ratings\\xa0&\\xa03,921 Reviews'},\n",
       " {'name': 'vivo T1 44W (Starry Sky, 128 GB)',\n",
       "  'price': '₹14,499',\n",
       "  'rr': '96,649 Ratings\\xa0&\\xa06,494 Reviews'},\n",
       " {'name': 'vivo T1 44W (Midnight Galaxy, 128 GB)',\n",
       "  'price': '₹14,499',\n",
       "  'rr': '96,649 Ratings\\xa0&\\xa06,494 Reviews'},\n",
       " {'name': 'realme C55 (Sunshower, 128 GB)', 'price': '₹13,999', 'rr': None},\n",
       " {'name': 'realme C55 (Rainy Night, 128 GB)', 'price': '₹13,999', 'rr': None},\n",
       " {'name': 'vivo T1 44W (Midnight Galaxy, 128 GB)',\n",
       "  'price': '₹15,999',\n",
       "  'rr': '55,267 Ratings\\xa0&\\xa03,921 Reviews'},\n",
       " {'name': 'realme C55 (Sunshower, 64 GB)', 'price': '₹10,999', 'rr': None},\n",
       " {'name': 'realme C55 (Sunshower, 64 GB)', 'price': '₹11,999', 'rr': None},\n",
       " {'name': 'realme C55 (Rainy Night, 64 GB)', 'price': '₹11,999', 'rr': None},\n",
       " {'name': 'realme C55 (Rainy Night, 64 GB)', 'price': '₹10,999', 'rr': None},\n",
       " {'name': 'SAMSUNG Galaxy F13 (Nightsky Green, 128 GB)',\n",
       "  'price': '₹11,999',\n",
       "  'rr': '1,32,390 Ratings\\xa0&\\xa07,608 Reviews'},\n",
       " {'name': 'SAMSUNG Galaxy F04 (Jade Purple, 64 GB)',\n",
       "  'price': '₹7,499',\n",
       "  'rr': '5,227 Ratings\\xa0&\\xa0210 Reviews'},\n",
       " {'name': 'MOTOROLA G32 (Mineral Gray, 128 GB)',\n",
       "  'price': '₹11,999',\n",
       "  'rr': '546 Ratings\\xa0&\\xa041 Reviews'},\n",
       " {'name': None, 'price': None, 'rr': None},\n",
       " {'name': None, 'price': None, 'rr': None}]"
      ]
     },
     "execution_count": 23,
     "metadata": {},
     "output_type": "execute_result"
    }
   ],
   "source": [
    "out"
   ]
  },
  {
   "cell_type": "code",
   "execution_count": null,
   "metadata": {},
   "outputs": [],
   "source": []
  }
 ],
 "metadata": {
  "kernelspec": {
   "display_name": "base",
   "language": "python",
   "name": "python3"
  },
  "language_info": {
   "codemirror_mode": {
    "name": "ipython",
    "version": 3
   },
   "file_extension": ".py",
   "mimetype": "text/x-python",
   "name": "python",
   "nbconvert_exporter": "python",
   "pygments_lexer": "ipython3",
   "version": "3.10.9"
  },
  "orig_nbformat": 4
 },
 "nbformat": 4,
 "nbformat_minor": 2
}
